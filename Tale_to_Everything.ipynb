{
 "cells": [
  {
   "cell_type": "markdown",
   "id": "7ed2a319-7c9d-49c4-8d88-0ae311ffcfca",
   "metadata": {},
   "source": [
    "# Tale to Scenes"
   ]
  },
  {
   "cell_type": "code",
   "execution_count": 1,
   "id": "575d6f00-a9ad-4772-9815-df54b3d23ce4",
   "metadata": {},
   "outputs": [
    {
     "name": "stdout",
     "output_type": "stream",
     "text": [
      "Requirement already satisfied: openai in /workspace/.miniconda3/lib/python3.11/site-packages (1.13.3)\n",
      "Requirement already satisfied: anyio<5,>=3.5.0 in /workspace/.miniconda3/lib/python3.11/site-packages (from openai) (4.3.0)\n",
      "Requirement already satisfied: distro<2,>=1.7.0 in /workspace/.miniconda3/lib/python3.11/site-packages (from openai) (1.9.0)\n",
      "Requirement already satisfied: httpx<1,>=0.23.0 in /workspace/.miniconda3/lib/python3.11/site-packages (from openai) (0.27.0)\n",
      "Requirement already satisfied: pydantic<3,>=1.9.0 in /workspace/.miniconda3/lib/python3.11/site-packages (from openai) (2.6.3)\n",
      "Requirement already satisfied: sniffio in /workspace/.miniconda3/lib/python3.11/site-packages (from openai) (1.3.1)\n",
      "Requirement already satisfied: tqdm>4 in /workspace/.miniconda3/lib/python3.11/site-packages (from openai) (4.65.0)\n",
      "Requirement already satisfied: typing-extensions<5,>=4.7 in /workspace/.miniconda3/lib/python3.11/site-packages (from openai) (4.10.0)\n",
      "Requirement already satisfied: idna>=2.8 in /workspace/.miniconda3/lib/python3.11/site-packages (from anyio<5,>=3.5.0->openai) (3.4)\n",
      "Requirement already satisfied: certifi in /workspace/.miniconda3/lib/python3.11/site-packages (from httpx<1,>=0.23.0->openai) (2023.5.7)\n",
      "Requirement already satisfied: httpcore==1.* in /workspace/.miniconda3/lib/python3.11/site-packages (from httpx<1,>=0.23.0->openai) (1.0.4)\n",
      "Requirement already satisfied: h11<0.15,>=0.13 in /workspace/.miniconda3/lib/python3.11/site-packages (from httpcore==1.*->httpx<1,>=0.23.0->openai) (0.14.0)\n",
      "Requirement already satisfied: annotated-types>=0.4.0 in /workspace/.miniconda3/lib/python3.11/site-packages (from pydantic<3,>=1.9.0->openai) (0.6.0)\n",
      "Requirement already satisfied: pydantic-core==2.16.3 in /workspace/.miniconda3/lib/python3.11/site-packages (from pydantic<3,>=1.9.0->openai) (2.16.3)\n",
      "\n",
      "\u001b[1m[\u001b[0m\u001b[34;49mnotice\u001b[0m\u001b[1;39;49m]\u001b[0m\u001b[39;49m A new release of pip is available: \u001b[0m\u001b[31;49m23.3\u001b[0m\u001b[39;49m -> \u001b[0m\u001b[32;49m24.0\u001b[0m\n",
      "\u001b[1m[\u001b[0m\u001b[34;49mnotice\u001b[0m\u001b[1;39;49m]\u001b[0m\u001b[39;49m To update, run: \u001b[0m\u001b[32;49mpip install --upgrade pip\u001b[0m\n"
     ]
    }
   ],
   "source": [
    "!pip install openai"
   ]
  },
  {
   "cell_type": "code",
   "execution_count": 5,
   "id": "9fd29567-4128-4274-9cde-a37cfb8a641e",
   "metadata": {},
   "outputs": [
    {
     "name": "stdout",
     "output_type": "stream",
     "text": [
      "OpenAI version is compatible.\n"
     ]
    }
   ],
   "source": [
    "import openai\n",
    "from packaging import version\n",
    "\n",
    "# Ensuring version\n",
    "required_version = version.parse(\"1.1.1\")\n",
    "current_version = version.parse(openai.__version__)\n",
    "\n",
    "if current_version < required_version:\n",
    "    raise ValueError(f\"Error: OpenAI version {openai.__version__}\"\n",
    "                     \" is less than the required version 1.1.1\")\n",
    "else:\n",
    "    print(\"OpenAI version is compatible.\")\n",
    "\n",
    "# -- Now we can get to it\n",
    "from openai import OpenAI\n",
    "\n",
    "OPENAI_SECRET_KEY = 'ENTER YOUR API KEY'\n",
    "\n",
    "# pass key to the client\n",
    "client = OpenAI(api_key = OPENAI_SECRET_KEY)\n",
    "\n",
    "# read Tale.txt file\n",
    "with open('Tale_short_version.txt', 'r') as file:\n",
    "    tale = file.read()\n",
    "\n",
    "prompt = f\"Given a text file containing a story, split the text into scenes. Each scene should be about no less than 1 and no more than 5 sentences, and the splitting should be based on logical breaks in the scenario, as if it were a movie. Try to have around 5 scenes. Please provide me with a series of scenes without eliminating or rephrasing anything from the text: {tale}\"\n",
    "\n",
    "response = client.chat.completions.create(\n",
    "    model=\"gpt-4\",\n",
    "    messages=[\n",
    "        {\"role\": \"system\", \"content\": \"You are a helpful assistant designed to split a text file based on logical breaks in the plot or scenery, and provide me with a list of scenes. Do not eliminate sentences and do not paraphrase them.\"},\n",
    "        {\"role\": \"user\", \"content\": prompt},\n",
    "    ]\n",
    ")"
   ]
  },
  {
   "cell_type": "code",
   "execution_count": 6,
   "id": "610ace94-c991-4fed-8e2d-80a3c3f8cf71",
   "metadata": {},
   "outputs": [],
   "source": [
    "scenes_txt = response.choices[0].message.content"
   ]
  },
  {
   "cell_type": "code",
   "execution_count": 7,
   "id": "8689de01-5801-4072-ada0-34b21666d019",
   "metadata": {},
   "outputs": [
    {
     "name": "stdout",
     "output_type": "stream",
     "text": [
      "Scene 1:\n",
      "\"In the heart of the ancient world, where time's tapestry was woven with threads of conquest and glory, there stood empires, each a living tale etched in the landscapes of time.\"\n",
      "\n",
      "Scene 2:\n",
      "\"The Babylonian Empire: Picture the grandeur of the Euphrates River, its waters carving a lifeline through the desert. The Hanging Gardens, a verdant marvel suspended in the air, dripped with the fragrance of exotic blooms, creating an oasis in the heart of Babylon.\"\n",
      "\n",
      "Scene 3:\n",
      "\"The Egyptian Empire: Amidst the golden dunes of the Sahara, the Nile River flowed, a celestial serpent nurturing the cradle of pharaonic might. Pyramids stood as timeless sentinels, their limestone surfaces gleaming in the eternal sun, and colossal statues of sphinxes guarded secrets buried in the sands of time.\"\n",
      "\n",
      "Scene 4:\n",
      "\"The Persian Empire: On the vast plateaus of Persia, where the air shimmered with the fragrance of spices, the royal palaces of Persepolis emerged like jewels in the crown of Cyrus the Great. The Hall of a Hundred Columns echoed with the whispers of dignitaries, while intricate reliefs adorned the walls, depicting the diversity of an empire stretching from the Aegean to the Indus.\"\n",
      "\n",
      "Scene 5:\n",
      "\"The Roman Empire: Across seven hills, Rome sprawled, a city of marble and might. The Colosseum, a colossal arena, roared with the cheers of the masses as gladiators clashed. Aqueducts arched like mighty serpents, delivering life-giving waters to a metropolis that stood at the crossroads of power and ambition.\"\n",
      "\n"
     ]
    }
   ],
   "source": [
    "import re\n",
    "\n",
    "# Remove breaklines\n",
    "input_string = re.sub(r'\\n', ' ', scenes_txt)\n",
    "\n",
    "# Extract scenes and text using regular expression\n",
    "scene_pattern = re.compile(r'Scene \\d+:')\n",
    "scenes_and_text = re.split(scene_pattern, input_string)[1:]\n",
    "\n",
    "# Create a map of Scene and Text\n",
    "scene_map = {f\"Scene {i+1}\": text.strip() for i, text in enumerate(scenes_and_text)}\n",
    "\n",
    "# Print the map\n",
    "for scene, text in scene_map.items():\n",
    "    print(f\"{scene}:\\n{text}\\n\")"
   ]
  },
  {
   "cell_type": "code",
   "execution_count": 8,
   "id": "dd2e4dfd-154d-4022-8ba7-1c2bcf6e9122",
   "metadata": {},
   "outputs": [],
   "source": [
    "import os\n",
    "# Create a folder for each scene\n",
    "for scene, text in scene_map.items():\n",
    "    scene_folder = f\"scenes/{scene}\"\n",
    "    os.makedirs(scene_folder, exist_ok=True)"
   ]
  },
  {
   "cell_type": "markdown",
   "id": "b929db0c-0bf7-44ca-8759-14acee6b0234",
   "metadata": {},
   "source": [
    "# Scenes to image prompts"
   ]
  },
  {
   "cell_type": "markdown",
   "id": "15469d76-0a71-444b-8319-c5a07dc0a7a6",
   "metadata": {},
   "source": [
    "### Extract style by MAISA"
   ]
  },
  {
   "cell_type": "code",
   "execution_count": null,
   "id": "2a4c399a-8715-4c9b-8999-1e33e992970a",
   "metadata": {},
   "outputs": [],
   "source": [
    "import requests\n",
    "\n",
    "url = \"https://api.maisa.ai/v1/capabilities/summarize\"\n",
    "\n",
    "payload = {\n",
    "    \"format\": \"paragraph\",\n",
    "    \"length\": \"long\",\n",
    "    \"text\": tale,\n",
    "    \"summary_hint\": \"Summarize the overall plot and style of the text.\"\n",
    "}\n",
    "headers = {\n",
    "    \"accept\": \"application/json\",\n",
    "    \"content-type\": \"application/json\",\n",
    "    \"X-API-Key\": \"ENTER YOUR API KEY\"\n",
    "}\n",
    "\n",
    "response = requests.post(url, json=payload, headers=headers)\n",
    "\n",
    "print(response.text)"
   ]
  },
  {
   "cell_type": "code",
   "execution_count": null,
   "id": "ce701031-c467-4ea0-a7dd-a55a3edcdc6e",
   "metadata": {},
   "outputs": [],
   "source": [
    "summary = response.json()['summary']"
   ]
  },
  {
   "cell_type": "markdown",
   "id": "bf6e7be4-3681-4a79-aff0-d23085000d11",
   "metadata": {},
   "source": [
    "### Prompts by OpenAI"
   ]
  },
  {
   "cell_type": "code",
   "execution_count": 9,
   "id": "b48ff309-1b0b-40c0-8aaa-15636dca9536",
   "metadata": {},
   "outputs": [
    {
     "name": "stdout",
     "output_type": "stream",
     "text": [
      "{'Scene 1': '\"An ancient world scene showcasing prominent empires, each representing a story of conquest and glory. Their monumental buildings, landscapes and symbols of power are visible, captured in a tapestry of time.\"', 'Scene 2': '\"View of the Babylonian Empire with the Euphrates River flowing through a desert. The Hanging Gardens are suspended in the air, brimming with lush plants and exotic blooms, serving as a fragrant oasis within Babylon.\"', 'Scene 3': 'A scene of the Egyptian Empire: Golden Sahara dunes surround the nourishing Nile River. Timeless pyramids stand with gleaming limestone surfaces under the eternal sun. Giant sphinx statues guard buried secrets in the sand.', 'Scene 4': '\"A vast shimmering Persian plateau with royal palaces of Persepolis, resembling jewels, under Cyrus the Great\\'s reign. The Hall of a Hundred Columns fills with whispers of dignitaries. Intricate reliefs on walls depict an empire that stretches from Aegean to Indus.\"', 'Scene 5': '\"An expansive view of Rome\\'s seven hills, highlighting the sprawling city made of marble. The colossal Colosseum vibrates with cheers, gladiators locked in combat. Arching aqueducts snake across, supplying water to this metropolis marking the crossroads of power and aspiration.\"'}\n"
     ]
    }
   ],
   "source": [
    "scene_prompt = {}\n",
    "for scene_index, scene in scene_map.items():\n",
    "    prompt = f\"Visually and simply describe the scene: {scene}. Consider the context when describing the scene: {summary}. Do not erase any important details. Description should be limited to 350 characters.\"\n",
    "\n",
    "    response = client.chat.completions.create(\n",
    "        model=\"gpt-4\",\n",
    "        messages=[\n",
    "            {\"role\": \"system\", \"content\": \"You are a prompt generator for image generation tool that draws scenes from text, that should generate prompt that is no longer than 350 characters.\"},\n",
    "            {\"role\": \"user\", \"content\": prompt},\n",
    "        ]\n",
    "    )\n",
    "    scene_prompt[scene_index] = response.choices[0].message.content\n",
    "print(scene_prompt)"
   ]
  },
  {
   "cell_type": "markdown",
   "id": "e0c8e139-e960-46d7-b6b8-473ab00920e1",
   "metadata": {},
   "source": [
    "# Scenes to Images"
   ]
  },
  {
   "cell_type": "code",
   "execution_count": 10,
   "id": "70bc2039-f7df-4736-96c2-87409bb512b4",
   "metadata": {},
   "outputs": [
    {
     "name": "stdout",
     "output_type": "stream",
     "text": [
      "Requirement already satisfied: requests in /workspace/.miniconda3/lib/python3.11/site-packages (2.31.0)\n",
      "Requirement already satisfied: charset-normalizer<4,>=2 in /workspace/.miniconda3/lib/python3.11/site-packages (from requests) (2.0.4)\n",
      "Requirement already satisfied: idna<4,>=2.5 in /workspace/.miniconda3/lib/python3.11/site-packages (from requests) (3.4)\n",
      "Requirement already satisfied: urllib3<3,>=1.21.1 in /workspace/.miniconda3/lib/python3.11/site-packages (from requests) (1.26.16)\n",
      "Requirement already satisfied: certifi>=2017.4.17 in /workspace/.miniconda3/lib/python3.11/site-packages (from requests) (2023.5.7)\n",
      "\n",
      "\u001b[1m[\u001b[0m\u001b[34;49mnotice\u001b[0m\u001b[1;39;49m]\u001b[0m\u001b[39;49m A new release of pip is available: \u001b[0m\u001b[31;49m23.3\u001b[0m\u001b[39;49m -> \u001b[0m\u001b[32;49m24.0\u001b[0m\n",
      "\u001b[1m[\u001b[0m\u001b[34;49mnotice\u001b[0m\u001b[1;39;49m]\u001b[0m\u001b[39;49m To update, run: \u001b[0m\u001b[32;49mpip install --upgrade pip\u001b[0m\n"
     ]
    }
   ],
   "source": [
    "!pip install requests"
   ]
  },
  {
   "cell_type": "code",
   "execution_count": 11,
   "id": "522f964b-3f3b-48f3-bd37-7683662d844e",
   "metadata": {},
   "outputs": [],
   "source": [
    "API_KEY = \"ENTER YOU BLOCkADE API\""
   ]
  },
  {
   "cell_type": "code",
   "execution_count": 12,
   "id": "67781aab-c8ff-4e8e-b1c6-c6e75131e21b",
   "metadata": {},
   "outputs": [],
   "source": [
    "import requests\n",
    "\n",
    "# Endpoint URL\n",
    "URL = \"https://backend.blockadelabs.com/api/v1/skybox\"\n",
    "\n",
    "def send_image_requests(prompt):\n",
    "# Data to send in the request body\n",
    "    data = {\n",
    "        \"prompt\": prompt,\n",
    "        \"skybox_style_id\": 2\n",
    "    }\n",
    "    \n",
    "    # Set headers including your API key\n",
    "    headers = {\n",
    "        \"Content-Type\": \"application/json\",\n",
    "        \"x-api-key\": API_KEY,\n",
    "    }\n",
    "    \n",
    "    # Send POST request\n",
    "    response = requests.post(URL, headers=headers, json=data)\n",
    "    \n",
    "    # Check for successful response\n",
    "    if response.status_code == 200:\n",
    "        print(\"Success! Response:\", response.json())\n",
    "        return response.json()['obfuscated_id']\n",
    "    else:\n",
    "        print(\"Error:\", response.status_code, response.text)"
   ]
  },
  {
   "cell_type": "code",
   "execution_count": 13,
   "id": "32cd718d-c18e-409e-85f4-c2cd2d67afff",
   "metadata": {},
   "outputs": [],
   "source": [
    "def check_request_status(obfuscated_id):\n",
    "    url = f\"https://backend.blockadelabs.com/api/v1/imagine/requests/obfuscated-id/{obfuscated_id}\"\n",
    "    \n",
    "    headers = {\"Content-Type\": \"application/json\"}\n",
    "    \n",
    "    headers[\"x-api-key\"] = API_KEY\n",
    "    response = requests.get(url, headers=headers)\n",
    "    status = response.json()[\"request\"][\"status\"]\n",
    "    if status=='complete':\n",
    "        return True\n",
    "    else: return False"
   ]
  },
  {
   "cell_type": "code",
   "execution_count": 14,
   "id": "852b05a8-bbe8-4c68-b40f-a88c6dd2c195",
   "metadata": {},
   "outputs": [],
   "source": [
    "def download_scene_image(scene, request_id):\n",
    "    url = f\"https://backend.blockadelabs.com/api/v1/imagine/requests/obfuscated-id/{request_id}\"\n",
    "    \n",
    "    headers = {\"Content-Type\": \"application/json\"}\n",
    "    \n",
    "    headers[\"x-api-key\"] = API_KEY\n",
    "    response = requests.get(url, headers=headers)\n",
    "    image_url = response.json()[\"request\"][\"file_url\"]\n",
    "    requests.get(image_url, stream=True).content\n",
    "    with open(f\"scenes/{scene}/skybox.jpg\", \"wb\") as f:\n",
    "        f.write(requests.get(image_url, stream=True).content)\n",
    "    print(\"Skybox downloaded\")"
   ]
  },
  {
   "cell_type": "code",
   "execution_count": 19,
   "id": "67778fcf-c138-4474-a504-16f88df80591",
   "metadata": {},
   "outputs": [
    {
     "name": "stdout",
     "output_type": "stream",
     "text": [
      "Success! Response: {'id': 10314130, 'obfuscated_id': '12fe40145f9db7eb50b916ee8ab2ce13', 'user_id': 110840, 'api_key_id': 5328, 'title': 'World #10314130', 'seed': 1711913825, 'negative_text': None, 'prompt': '\"An expansive view of Rome\\'s seven hills, highlighting the sprawling city made of marble. The colossal Colosseum vibrates with cheers, gladiators locked in combat. Arching aqueducts snake across, supplying water to this metropolis marking the crossroads of power and aspiration.\"', 'username': 'ketisulamanidze', 'status': 'dispatched', 'queue_position': 0, 'file_url': '', 'thumb_url': '', 'depth_map_url': '', 'remix_imagine_id': None, 'remix_obfuscated_id': None, 'isMyFavorite': False, 'created_at': '2024-03-01T06:20:22+00:00', 'updated_at': '2024-03-01T06:20:22+00:00', 'error_message': None, 'pusher_channel': 'status_update_12fe40145f9db7eb50b916ee8ab2ce13', 'pusher_event': 'status_update', 'type': 'skybox', 'skybox_style_id': 2, 'skybox_id': 2, 'skybox_style_name': 'Fantasy', 'skybox_name': 'Fantasy'}\n",
      "Skybox downloaded\n"
     ]
    }
   ],
   "source": [
    "# Send request for all scenes\n",
    "request_ids_for_scenes = {}\n",
    "\n",
    "for scene, prompt in scene_prompt.items():\n",
    "    request_ids_for_scenes[scene] = send_image_requests(prompt)\n",
    "\n",
    "fulfilled_scenes_set = set()\n",
    "while len(fulfilled_scenes_set)!=len(scene_prompt):\n",
    "    for scene, request_id in request_ids_for_scenes.items():\n",
    "        if scene not in fulfilled_scenes_set:\n",
    "            if check_request_status(request_id):\n",
    "                fulfilled_scenes_set.add(scene)\n",
    "                download_scene_image(scene, request_id)\n",
    "    "
   ]
  },
  {
   "cell_type": "markdown",
   "id": "d2aa870d-85fd-4e0e-acab-57f249129b76",
   "metadata": {},
   "source": [
    "# Image to depth image"
   ]
  },
  {
   "cell_type": "code",
   "execution_count": 31,
   "id": "6346f41f-5c75-44b7-804f-67cbce75bac0",
   "metadata": {},
   "outputs": [
    {
     "name": "stdout",
     "output_type": "stream",
     "text": [
      "Cloning into 'Depth-Anything'...\n",
      "remote: Enumerating objects: 406, done.\u001b[K\n",
      "remote: Counting objects: 100% (141/141), done.\u001b[K\n",
      "remote: Compressing objects: 100% (114/114), done.\u001b[K\n",
      "remote: Total 406 (delta 76), reused 71 (delta 27), pack-reused 265\u001b[K\n",
      "Receiving objects: 100% (406/406), 237.89 MiB | 29.37 MiB/s, done.\n",
      "Resolving deltas: 100% (128/128), done.\n",
      "Updating files: 100% (219/219), done.\n"
     ]
    }
   ],
   "source": [
    "!git clone https://github.com/LiheYoung/Depth-Anything.git"
   ]
  },
  {
   "cell_type": "code",
   "execution_count": 32,
   "id": "368fe270-1b1a-4b30-ab22-ae75fc180211",
   "metadata": {},
   "outputs": [
    {
     "name": "stdout",
     "output_type": "stream",
     "text": [
      "Collecting gradio_imageslider (from -r Depth-Anything/requirements.txt (line 1))\n",
      "  Downloading gradio_imageslider-0.0.18-py3-none-any.whl.metadata (10 kB)\n",
      "Collecting gradio==4.14.0 (from -r Depth-Anything/requirements.txt (line 2))\n",
      "  Downloading gradio-4.14.0-py3-none-any.whl.metadata (15 kB)\n",
      "Requirement already satisfied: torch in /workspace/.miniconda3/lib/python3.11/site-packages (from -r Depth-Anything/requirements.txt (line 3)) (2.1.0)\n",
      "Collecting torchvision (from -r Depth-Anything/requirements.txt (line 4))\n",
      "  Downloading torchvision-0.17.1-cp311-cp311-manylinux1_x86_64.whl.metadata (6.6 kB)\n",
      "Collecting opencv-python (from -r Depth-Anything/requirements.txt (line 5))\n",
      "  Downloading opencv_python-4.9.0.80-cp37-abi3-manylinux_2_17_x86_64.manylinux2014_x86_64.whl.metadata (20 kB)\n",
      "Requirement already satisfied: huggingface_hub in /workspace/.miniconda3/lib/python3.11/site-packages (from -r Depth-Anything/requirements.txt (line 6)) (0.21.3)\n",
      "Requirement already satisfied: aiofiles<24.0,>=22.0 in /workspace/.miniconda3/lib/python3.11/site-packages (from gradio==4.14.0->-r Depth-Anything/requirements.txt (line 2)) (23.2.1)\n",
      "Requirement already satisfied: altair<6.0,>=4.2.0 in /workspace/.miniconda3/lib/python3.11/site-packages (from gradio==4.14.0->-r Depth-Anything/requirements.txt (line 2)) (5.2.0)\n",
      "Requirement already satisfied: fastapi in /workspace/.miniconda3/lib/python3.11/site-packages (from gradio==4.14.0->-r Depth-Anything/requirements.txt (line 2)) (0.110.0)\n",
      "Requirement already satisfied: ffmpy in /workspace/.miniconda3/lib/python3.11/site-packages (from gradio==4.14.0->-r Depth-Anything/requirements.txt (line 2)) (0.3.2)\n",
      "Collecting gradio-client==0.8.0 (from gradio==4.14.0->-r Depth-Anything/requirements.txt (line 2))\n",
      "  Downloading gradio_client-0.8.0-py3-none-any.whl.metadata (7.1 kB)\n",
      "Requirement already satisfied: httpx in /workspace/.miniconda3/lib/python3.11/site-packages (from gradio==4.14.0->-r Depth-Anything/requirements.txt (line 2)) (0.27.0)\n",
      "Requirement already satisfied: importlib-resources<7.0,>=1.3 in /workspace/.miniconda3/lib/python3.11/site-packages (from gradio==4.14.0->-r Depth-Anything/requirements.txt (line 2)) (6.1.2)\n",
      "Requirement already satisfied: jinja2<4.0 in /workspace/.miniconda3/lib/python3.11/site-packages (from gradio==4.14.0->-r Depth-Anything/requirements.txt (line 2)) (3.1.3)\n",
      "Requirement already satisfied: markupsafe~=2.0 in /workspace/.miniconda3/lib/python3.11/site-packages (from gradio==4.14.0->-r Depth-Anything/requirements.txt (line 2)) (2.1.5)\n",
      "Requirement already satisfied: matplotlib~=3.0 in /workspace/.miniconda3/lib/python3.11/site-packages (from gradio==4.14.0->-r Depth-Anything/requirements.txt (line 2)) (3.8.3)\n",
      "Requirement already satisfied: numpy~=1.0 in /workspace/.miniconda3/lib/python3.11/site-packages (from gradio==4.14.0->-r Depth-Anything/requirements.txt (line 2)) (1.26.4)\n",
      "Requirement already satisfied: orjson~=3.0 in /workspace/.miniconda3/lib/python3.11/site-packages (from gradio==4.14.0->-r Depth-Anything/requirements.txt (line 2)) (3.9.15)\n",
      "Requirement already satisfied: packaging in /workspace/.miniconda3/lib/python3.11/site-packages (from gradio==4.14.0->-r Depth-Anything/requirements.txt (line 2)) (23.0)\n",
      "Requirement already satisfied: pandas<3.0,>=1.0 in /workspace/.miniconda3/lib/python3.11/site-packages (from gradio==4.14.0->-r Depth-Anything/requirements.txt (line 2)) (2.2.1)\n",
      "Requirement already satisfied: pillow<11.0,>=8.0 in /workspace/.miniconda3/lib/python3.11/site-packages (from gradio==4.14.0->-r Depth-Anything/requirements.txt (line 2)) (10.2.0)\n",
      "Requirement already satisfied: pydantic>=2.0 in /workspace/.miniconda3/lib/python3.11/site-packages (from gradio==4.14.0->-r Depth-Anything/requirements.txt (line 2)) (2.6.3)\n",
      "Requirement already satisfied: pydub in /workspace/.miniconda3/lib/python3.11/site-packages (from gradio==4.14.0->-r Depth-Anything/requirements.txt (line 2)) (0.25.1)\n",
      "Requirement already satisfied: python-multipart in /workspace/.miniconda3/lib/python3.11/site-packages (from gradio==4.14.0->-r Depth-Anything/requirements.txt (line 2)) (0.0.9)\n",
      "Requirement already satisfied: pyyaml<7.0,>=5.0 in /workspace/.miniconda3/lib/python3.11/site-packages (from gradio==4.14.0->-r Depth-Anything/requirements.txt (line 2)) (6.0.1)\n",
      "Requirement already satisfied: semantic-version~=2.0 in /workspace/.miniconda3/lib/python3.11/site-packages (from gradio==4.14.0->-r Depth-Anything/requirements.txt (line 2)) (2.10.0)\n",
      "Requirement already satisfied: tomlkit==0.12.0 in /workspace/.miniconda3/lib/python3.11/site-packages (from gradio==4.14.0->-r Depth-Anything/requirements.txt (line 2)) (0.12.0)\n",
      "Requirement already satisfied: typer<1.0,>=0.9 in /workspace/.miniconda3/lib/python3.11/site-packages (from typer[all]<1.0,>=0.9->gradio==4.14.0->-r Depth-Anything/requirements.txt (line 2)) (0.9.0)\n",
      "Requirement already satisfied: typing-extensions~=4.0 in /workspace/.miniconda3/lib/python3.11/site-packages (from gradio==4.14.0->-r Depth-Anything/requirements.txt (line 2)) (4.10.0)\n",
      "Requirement already satisfied: uvicorn>=0.14.0 in /workspace/.miniconda3/lib/python3.11/site-packages (from gradio==4.14.0->-r Depth-Anything/requirements.txt (line 2)) (0.27.1)\n",
      "Requirement already satisfied: fsspec in /workspace/.miniconda3/lib/python3.11/site-packages (from gradio-client==0.8.0->gradio==4.14.0->-r Depth-Anything/requirements.txt (line 2)) (2024.2.0)\n",
      "Requirement already satisfied: websockets<12.0,>=10.0 in /workspace/.miniconda3/lib/python3.11/site-packages (from gradio-client==0.8.0->gradio==4.14.0->-r Depth-Anything/requirements.txt (line 2)) (11.0.3)\n",
      "Requirement already satisfied: filelock in /workspace/.miniconda3/lib/python3.11/site-packages (from torch->-r Depth-Anything/requirements.txt (line 3)) (3.13.1)\n",
      "Requirement already satisfied: sympy in /workspace/.miniconda3/lib/python3.11/site-packages (from torch->-r Depth-Anything/requirements.txt (line 3)) (1.12)\n",
      "Requirement already satisfied: networkx in /workspace/.miniconda3/lib/python3.11/site-packages (from torch->-r Depth-Anything/requirements.txt (line 3)) (3.2.1)\n",
      "Requirement already satisfied: nvidia-cuda-nvrtc-cu12==12.1.105 in /workspace/.miniconda3/lib/python3.11/site-packages (from torch->-r Depth-Anything/requirements.txt (line 3)) (12.1.105)\n",
      "Requirement already satisfied: nvidia-cuda-runtime-cu12==12.1.105 in /workspace/.miniconda3/lib/python3.11/site-packages (from torch->-r Depth-Anything/requirements.txt (line 3)) (12.1.105)\n",
      "Requirement already satisfied: nvidia-cuda-cupti-cu12==12.1.105 in /workspace/.miniconda3/lib/python3.11/site-packages (from torch->-r Depth-Anything/requirements.txt (line 3)) (12.1.105)\n",
      "Requirement already satisfied: nvidia-cudnn-cu12==8.9.2.26 in /workspace/.miniconda3/lib/python3.11/site-packages (from torch->-r Depth-Anything/requirements.txt (line 3)) (8.9.2.26)\n",
      "Requirement already satisfied: nvidia-cublas-cu12==12.1.3.1 in /workspace/.miniconda3/lib/python3.11/site-packages (from torch->-r Depth-Anything/requirements.txt (line 3)) (12.1.3.1)\n",
      "Requirement already satisfied: nvidia-cufft-cu12==11.0.2.54 in /workspace/.miniconda3/lib/python3.11/site-packages (from torch->-r Depth-Anything/requirements.txt (line 3)) (11.0.2.54)\n",
      "Requirement already satisfied: nvidia-curand-cu12==10.3.2.106 in /workspace/.miniconda3/lib/python3.11/site-packages (from torch->-r Depth-Anything/requirements.txt (line 3)) (10.3.2.106)\n",
      "Requirement already satisfied: nvidia-cusolver-cu12==11.4.5.107 in /workspace/.miniconda3/lib/python3.11/site-packages (from torch->-r Depth-Anything/requirements.txt (line 3)) (11.4.5.107)\n",
      "Requirement already satisfied: nvidia-cusparse-cu12==12.1.0.106 in /workspace/.miniconda3/lib/python3.11/site-packages (from torch->-r Depth-Anything/requirements.txt (line 3)) (12.1.0.106)\n",
      "Requirement already satisfied: nvidia-nccl-cu12==2.18.1 in /workspace/.miniconda3/lib/python3.11/site-packages (from torch->-r Depth-Anything/requirements.txt (line 3)) (2.18.1)\n",
      "Requirement already satisfied: nvidia-nvtx-cu12==12.1.105 in /workspace/.miniconda3/lib/python3.11/site-packages (from torch->-r Depth-Anything/requirements.txt (line 3)) (12.1.105)\n",
      "Requirement already satisfied: triton==2.1.0 in /workspace/.miniconda3/lib/python3.11/site-packages (from torch->-r Depth-Anything/requirements.txt (line 3)) (2.1.0)\n",
      "Requirement already satisfied: nvidia-nvjitlink-cu12 in /workspace/.miniconda3/lib/python3.11/site-packages (from nvidia-cusolver-cu12==11.4.5.107->torch->-r Depth-Anything/requirements.txt (line 3)) (12.3.101)\n",
      "Collecting torch (from -r Depth-Anything/requirements.txt (line 3))\n",
      "  Downloading torch-2.2.1-cp311-cp311-manylinux1_x86_64.whl.metadata (26 kB)\n",
      "Collecting nvidia-nccl-cu12==2.19.3 (from torch->-r Depth-Anything/requirements.txt (line 3))\n",
      "  Downloading nvidia_nccl_cu12-2.19.3-py3-none-manylinux1_x86_64.whl.metadata (1.8 kB)\n",
      "Collecting triton==2.2.0 (from torch->-r Depth-Anything/requirements.txt (line 3))\n",
      "  Downloading triton-2.2.0-cp311-cp311-manylinux_2_17_x86_64.manylinux2014_x86_64.whl.metadata (1.4 kB)\n",
      "Requirement already satisfied: requests in /workspace/.miniconda3/lib/python3.11/site-packages (from huggingface_hub->-r Depth-Anything/requirements.txt (line 6)) (2.31.0)\n",
      "Requirement already satisfied: tqdm>=4.42.1 in /workspace/.miniconda3/lib/python3.11/site-packages (from huggingface_hub->-r Depth-Anything/requirements.txt (line 6)) (4.65.0)\n",
      "Requirement already satisfied: jsonschema>=3.0 in /workspace/.miniconda3/lib/python3.11/site-packages (from altair<6.0,>=4.2.0->gradio==4.14.0->-r Depth-Anything/requirements.txt (line 2)) (4.21.1)\n",
      "Requirement already satisfied: toolz in /workspace/.miniconda3/lib/python3.11/site-packages (from altair<6.0,>=4.2.0->gradio==4.14.0->-r Depth-Anything/requirements.txt (line 2)) (0.12.0)\n",
      "Requirement already satisfied: contourpy>=1.0.1 in /workspace/.miniconda3/lib/python3.11/site-packages (from matplotlib~=3.0->gradio==4.14.0->-r Depth-Anything/requirements.txt (line 2)) (1.2.0)\n",
      "Requirement already satisfied: cycler>=0.10 in /workspace/.miniconda3/lib/python3.11/site-packages (from matplotlib~=3.0->gradio==4.14.0->-r Depth-Anything/requirements.txt (line 2)) (0.12.1)\n",
      "Requirement already satisfied: fonttools>=4.22.0 in /workspace/.miniconda3/lib/python3.11/site-packages (from matplotlib~=3.0->gradio==4.14.0->-r Depth-Anything/requirements.txt (line 2)) (4.49.0)\n",
      "Requirement already satisfied: kiwisolver>=1.3.1 in /workspace/.miniconda3/lib/python3.11/site-packages (from matplotlib~=3.0->gradio==4.14.0->-r Depth-Anything/requirements.txt (line 2)) (1.4.5)\n",
      "Requirement already satisfied: pyparsing>=2.3.1 in /workspace/.miniconda3/lib/python3.11/site-packages (from matplotlib~=3.0->gradio==4.14.0->-r Depth-Anything/requirements.txt (line 2)) (3.1.1)\n",
      "Requirement already satisfied: python-dateutil>=2.7 in /workspace/.miniconda3/lib/python3.11/site-packages (from matplotlib~=3.0->gradio==4.14.0->-r Depth-Anything/requirements.txt (line 2)) (2.8.2)\n",
      "Requirement already satisfied: pytz>=2020.1 in /workspace/.miniconda3/lib/python3.11/site-packages (from pandas<3.0,>=1.0->gradio==4.14.0->-r Depth-Anything/requirements.txt (line 2)) (2024.1)\n",
      "Requirement already satisfied: tzdata>=2022.7 in /workspace/.miniconda3/lib/python3.11/site-packages (from pandas<3.0,>=1.0->gradio==4.14.0->-r Depth-Anything/requirements.txt (line 2)) (2024.1)\n",
      "Requirement already satisfied: annotated-types>=0.4.0 in /workspace/.miniconda3/lib/python3.11/site-packages (from pydantic>=2.0->gradio==4.14.0->-r Depth-Anything/requirements.txt (line 2)) (0.6.0)\n",
      "Requirement already satisfied: pydantic-core==2.16.3 in /workspace/.miniconda3/lib/python3.11/site-packages (from pydantic>=2.0->gradio==4.14.0->-r Depth-Anything/requirements.txt (line 2)) (2.16.3)\n",
      "Requirement already satisfied: click<9.0.0,>=7.1.1 in /workspace/.miniconda3/lib/python3.11/site-packages (from typer<1.0,>=0.9->typer[all]<1.0,>=0.9->gradio==4.14.0->-r Depth-Anything/requirements.txt (line 2)) (8.1.7)\n",
      "Requirement already satisfied: colorama<0.5.0,>=0.4.3 in /workspace/.miniconda3/lib/python3.11/site-packages (from typer[all]<1.0,>=0.9->gradio==4.14.0->-r Depth-Anything/requirements.txt (line 2)) (0.4.6)\n",
      "Requirement already satisfied: shellingham<2.0.0,>=1.3.0 in /workspace/.miniconda3/lib/python3.11/site-packages (from typer[all]<1.0,>=0.9->gradio==4.14.0->-r Depth-Anything/requirements.txt (line 2)) (1.5.4)\n",
      "Requirement already satisfied: rich<14.0.0,>=10.11.0 in /workspace/.miniconda3/lib/python3.11/site-packages (from typer[all]<1.0,>=0.9->gradio==4.14.0->-r Depth-Anything/requirements.txt (line 2)) (13.7.1)\n",
      "Requirement already satisfied: h11>=0.8 in /workspace/.miniconda3/lib/python3.11/site-packages (from uvicorn>=0.14.0->gradio==4.14.0->-r Depth-Anything/requirements.txt (line 2)) (0.14.0)\n",
      "Requirement already satisfied: starlette<0.37.0,>=0.36.3 in /workspace/.miniconda3/lib/python3.11/site-packages (from fastapi->gradio==4.14.0->-r Depth-Anything/requirements.txt (line 2)) (0.36.3)\n",
      "Requirement already satisfied: anyio in /workspace/.miniconda3/lib/python3.11/site-packages (from httpx->gradio==4.14.0->-r Depth-Anything/requirements.txt (line 2)) (4.3.0)\n",
      "Requirement already satisfied: certifi in /workspace/.miniconda3/lib/python3.11/site-packages (from httpx->gradio==4.14.0->-r Depth-Anything/requirements.txt (line 2)) (2023.5.7)\n",
      "Requirement already satisfied: httpcore==1.* in /workspace/.miniconda3/lib/python3.11/site-packages (from httpx->gradio==4.14.0->-r Depth-Anything/requirements.txt (line 2)) (1.0.4)\n",
      "Requirement already satisfied: idna in /workspace/.miniconda3/lib/python3.11/site-packages (from httpx->gradio==4.14.0->-r Depth-Anything/requirements.txt (line 2)) (3.4)\n",
      "Requirement already satisfied: sniffio in /workspace/.miniconda3/lib/python3.11/site-packages (from httpx->gradio==4.14.0->-r Depth-Anything/requirements.txt (line 2)) (1.3.1)\n",
      "Requirement already satisfied: charset-normalizer<4,>=2 in /workspace/.miniconda3/lib/python3.11/site-packages (from requests->huggingface_hub->-r Depth-Anything/requirements.txt (line 6)) (2.0.4)\n",
      "Requirement already satisfied: urllib3<3,>=1.21.1 in /workspace/.miniconda3/lib/python3.11/site-packages (from requests->huggingface_hub->-r Depth-Anything/requirements.txt (line 6)) (1.26.16)\n",
      "Requirement already satisfied: mpmath>=0.19 in /workspace/.miniconda3/lib/python3.11/site-packages (from sympy->torch->-r Depth-Anything/requirements.txt (line 3)) (1.3.0)\n",
      "Requirement already satisfied: attrs>=22.2.0 in /workspace/.miniconda3/lib/python3.11/site-packages (from jsonschema>=3.0->altair<6.0,>=4.2.0->gradio==4.14.0->-r Depth-Anything/requirements.txt (line 2)) (23.2.0)\n",
      "Requirement already satisfied: jsonschema-specifications>=2023.03.6 in /workspace/.miniconda3/lib/python3.11/site-packages (from jsonschema>=3.0->altair<6.0,>=4.2.0->gradio==4.14.0->-r Depth-Anything/requirements.txt (line 2)) (2023.12.1)\n",
      "Requirement already satisfied: referencing>=0.28.4 in /workspace/.miniconda3/lib/python3.11/site-packages (from jsonschema>=3.0->altair<6.0,>=4.2.0->gradio==4.14.0->-r Depth-Anything/requirements.txt (line 2)) (0.33.0)\n",
      "Requirement already satisfied: rpds-py>=0.7.1 in /workspace/.miniconda3/lib/python3.11/site-packages (from jsonschema>=3.0->altair<6.0,>=4.2.0->gradio==4.14.0->-r Depth-Anything/requirements.txt (line 2)) (0.18.0)\n",
      "Requirement already satisfied: six>=1.5 in /workspace/.miniconda3/lib/python3.11/site-packages (from python-dateutil>=2.7->matplotlib~=3.0->gradio==4.14.0->-r Depth-Anything/requirements.txt (line 2)) (1.16.0)\n",
      "Requirement already satisfied: markdown-it-py>=2.2.0 in /workspace/.miniconda3/lib/python3.11/site-packages (from rich<14.0.0,>=10.11.0->typer[all]<1.0,>=0.9->gradio==4.14.0->-r Depth-Anything/requirements.txt (line 2)) (3.0.0)\n",
      "Requirement already satisfied: pygments<3.0.0,>=2.13.0 in /workspace/.miniconda3/lib/python3.11/site-packages (from rich<14.0.0,>=10.11.0->typer[all]<1.0,>=0.9->gradio==4.14.0->-r Depth-Anything/requirements.txt (line 2)) (2.16.1)\n",
      "Requirement already satisfied: mdurl~=0.1 in /workspace/.miniconda3/lib/python3.11/site-packages (from markdown-it-py>=2.2.0->rich<14.0.0,>=10.11.0->typer[all]<1.0,>=0.9->gradio==4.14.0->-r Depth-Anything/requirements.txt (line 2)) (0.1.2)\n",
      "Downloading gradio-4.14.0-py3-none-any.whl (16.6 MB)\n",
      "\u001b[2K   \u001b[90m━━━━━━━━━━━━━━━━━━━━━━━━━━━━━━━━━━━━━━━━\u001b[0m \u001b[32m16.6/16.6 MB\u001b[0m \u001b[31m22.4 MB/s\u001b[0m eta \u001b[36m0:00:00\u001b[0m00:01\u001b[0m00:01\u001b[0m\n",
      "\u001b[?25hDownloading gradio_client-0.8.0-py3-none-any.whl (305 kB)\n",
      "\u001b[2K   \u001b[90m━━━━━━━━━━━━━━━━━━━━━━━━━━━━━━━━━━━━━━━━\u001b[0m \u001b[32m305.1/305.1 kB\u001b[0m \u001b[31m17.0 MB/s\u001b[0m eta \u001b[36m0:00:00\u001b[0m\n",
      "\u001b[?25hDownloading gradio_imageslider-0.0.18-py3-none-any.whl (97 kB)\n",
      "\u001b[2K   \u001b[90m━━━━━━━━━━━━━━━━━━━━━━━━━━━━━━━━━━━━━━━━\u001b[0m \u001b[32m97.4/97.4 kB\u001b[0m \u001b[31m6.6 MB/s\u001b[0m eta \u001b[36m0:00:00\u001b[0m\n",
      "\u001b[?25hDownloading torchvision-0.17.1-cp311-cp311-manylinux1_x86_64.whl (6.9 MB)\n",
      "\u001b[2K   \u001b[90m━━━━━━━━━━━━━━━━━━━━━━━━━━━━━━━━━━━━━━━━\u001b[0m \u001b[32m6.9/6.9 MB\u001b[0m \u001b[31m29.2 MB/s\u001b[0m eta \u001b[36m0:00:00\u001b[0m00:01\u001b[0m00:01\u001b[0m\n",
      "\u001b[?25hDownloading torch-2.2.1-cp311-cp311-manylinux1_x86_64.whl (755.6 MB)\n",
      "\u001b[2K   \u001b[90m━━━━━━━━━━━━━━━━━━━━━━━━━━━━━━━━━━━━━━━━\u001b[0m \u001b[32m755.6/755.6 MB\u001b[0m \u001b[31m6.8 MB/s\u001b[0m eta \u001b[36m0:00:00\u001b[0m:00:01\u001b[0m00:01\u001b[0m\n",
      "\u001b[?25hDownloading nvidia_nccl_cu12-2.19.3-py3-none-manylinux1_x86_64.whl (166.0 MB)\n",
      "\u001b[2K   \u001b[90m━━━━━━━━━━━━━━━━━━━━━━━━━━━━━━━━━━━━━━━━\u001b[0m \u001b[32m166.0/166.0 MB\u001b[0m \u001b[31m18.1 MB/s\u001b[0m eta \u001b[36m0:00:00\u001b[0m00:01\u001b[0m00:01\u001b[0m\n",
      "\u001b[?25hDownloading triton-2.2.0-cp311-cp311-manylinux_2_17_x86_64.manylinux2014_x86_64.whl (167.9 MB)\n",
      "\u001b[2K   \u001b[90m━━━━━━━━━━━━━━━━━━━━━━━━━━━━━━━━━━━━━━━━\u001b[0m \u001b[32m167.9/167.9 MB\u001b[0m \u001b[31m25.7 MB/s\u001b[0m eta \u001b[36m0:00:00\u001b[0m00:01\u001b[0m00:01\u001b[0m\n",
      "\u001b[?25hDownloading opencv_python-4.9.0.80-cp37-abi3-manylinux_2_17_x86_64.manylinux2014_x86_64.whl (62.2 MB)\n",
      "\u001b[2K   \u001b[90m━━━━━━━━━━━━━━━━━━━━━━━━━━━━━━━━━━━━━━━━\u001b[0m \u001b[32m62.2/62.2 MB\u001b[0m \u001b[31m48.6 MB/s\u001b[0m eta \u001b[36m0:00:00\u001b[0m:00:01\u001b[0m00:01\u001b[0m\n",
      "\u001b[?25hInstalling collected packages: triton, opencv-python, nvidia-nccl-cu12, gradio_imageslider, torch, gradio-client, torchvision, gradio\n",
      "  Attempting uninstall: triton\n",
      "    Found existing installation: triton 2.1.0\n",
      "    Uninstalling triton-2.1.0:\n",
      "      Successfully uninstalled triton-2.1.0\n",
      "  Attempting uninstall: nvidia-nccl-cu12\n",
      "    Found existing installation: nvidia-nccl-cu12 2.18.1\n",
      "    Uninstalling nvidia-nccl-cu12-2.18.1:\n",
      "      Successfully uninstalled nvidia-nccl-cu12-2.18.1\n",
      "  Attempting uninstall: torch\n",
      "    Found existing installation: torch 2.1.0\n",
      "    Uninstalling torch-2.1.0:\n",
      "      Successfully uninstalled torch-2.1.0\n",
      "  Attempting uninstall: gradio-client\n",
      "    Found existing installation: gradio_client 0.10.1\n",
      "    Uninstalling gradio_client-0.10.1:\n",
      "      Successfully uninstalled gradio_client-0.10.1\n",
      "  Attempting uninstall: gradio\n",
      "    Found existing installation: gradio 4.19.2\n",
      "    Uninstalling gradio-4.19.2:\n",
      "      Successfully uninstalled gradio-4.19.2\n",
      "\u001b[31mERROR: pip's dependency resolver does not currently take into account all the packages that are installed. This behaviour is the source of the following dependency conflicts.\n",
      "torchaudio 2.1.0 requires torch==2.1.0, but you have torch 2.2.1 which is incompatible.\n",
      "xformers 0.0.22.post7 requires torch==2.1.0, but you have torch 2.2.1 which is incompatible.\n",
      "audiocraft 1.3.0a1 requires torch==2.1.0, but you have torch 2.2.1 which is incompatible.\u001b[0m\u001b[31m\n",
      "\u001b[0mSuccessfully installed gradio-4.14.0 gradio-client-0.8.0 gradio_imageslider-0.0.18 nvidia-nccl-cu12-2.19.3 opencv-python-4.9.0.80 torch-2.2.1 torchvision-0.17.1 triton-2.2.0\n",
      "\n",
      "\u001b[1m[\u001b[0m\u001b[34;49mnotice\u001b[0m\u001b[1;39;49m]\u001b[0m\u001b[39;49m A new release of pip is available: \u001b[0m\u001b[31;49m23.3\u001b[0m\u001b[39;49m -> \u001b[0m\u001b[32;49m24.0\u001b[0m\n",
      "\u001b[1m[\u001b[0m\u001b[34;49mnotice\u001b[0m\u001b[1;39;49m]\u001b[0m\u001b[39;49m To update, run: \u001b[0m\u001b[32;49mpip install --upgrade pip\u001b[0m\n"
     ]
    }
   ],
   "source": [
    "!pip install -r Depth-Anything/requirements.txt"
   ]
  },
  {
   "cell_type": "markdown",
   "id": "dbd273a3-4e4b-4845-b80a-1420acbef648",
   "metadata": {},
   "source": [
    "# Scenes to speech"
   ]
  },
  {
   "cell_type": "code",
   "execution_count": 35,
   "id": "050c8455-f75d-4fa2-9413-ae4c1ffe713f",
   "metadata": {},
   "outputs": [
    {
     "name": "stdout",
     "output_type": "stream",
     "text": [
      "config.json: 100%|██████████████████████████████| 116/116 [00:00<00:00, 199kB/s]\n",
      "Traceback (most recent call last):\n",
      "  File \"/workspace/keti_zura/Depth-Anything/run.py\", line 34, in <module>\n",
      "    depth_anything = DepthAnything.from_pretrained('LiheYoung/depth_anything_{}14'.format(args.encoder)).to(DEVICE).eval()\n",
      "                     ^^^^^^^^^^^^^^^^^^^^^^^^^^^^^^^^^^^^^^^^^^^^^^^^^^^^^^^^^^^^^^^^^^^^^^^^^^^^^^^^^^^\n",
      "  File \"/workspace/.miniconda3/lib/python3.11/site-packages/huggingface_hub/utils/_validators.py\", line 118, in _inner_fn\n",
      "    return fn(*args, **kwargs)\n",
      "           ^^^^^^^^^^^^^^^^^^^\n",
      "  File \"/workspace/.miniconda3/lib/python3.11/site-packages/huggingface_hub/hub_mixin.py\", line 277, in from_pretrained\n",
      "    instance = cls._from_pretrained(\n",
      "               ^^^^^^^^^^^^^^^^^^^^^\n",
      "  File \"/workspace/.miniconda3/lib/python3.11/site-packages/huggingface_hub/hub_mixin.py\", line 485, in _from_pretrained\n",
      "    model = cls(**model_kwargs)\n",
      "            ^^^^^^^^^^^^^^^^^^^\n",
      "  File \"/workspace/keti_zura/Depth-Anything/depth_anything/dpt.py\", line 171, in __init__\n",
      "    super().__init__(**config)\n",
      "  File \"/workspace/keti_zura/Depth-Anything/depth_anything/dpt.py\", line 147, in __init__\n",
      "    self.pretrained = torch.hub.load('torchhub/facebookresearch_dinov2_main', 'dinov2_{:}14'.format(encoder), source='local', pretrained=False)\n",
      "                      ^^^^^^^^^^^^^^^^^^^^^^^^^^^^^^^^^^^^^^^^^^^^^^^^^^^^^^^^^^^^^^^^^^^^^^^^^^^^^^^^^^^^^^^^^^^^^^^^^^^^^^^^^^^^^^^^^^^^^^^^^\n",
      "  File \"/workspace/.miniconda3/lib/python3.11/site-packages/torch/hub.py\", line 566, in load\n",
      "    model = _load_local(repo_or_dir, model, *args, **kwargs)\n",
      "            ^^^^^^^^^^^^^^^^^^^^^^^^^^^^^^^^^^^^^^^^^^^^^^^^\n",
      "  File \"/workspace/.miniconda3/lib/python3.11/site-packages/torch/hub.py\", line 592, in _load_local\n",
      "    hub_module = _import_module(MODULE_HUBCONF, hubconf_path)\n",
      "                 ^^^^^^^^^^^^^^^^^^^^^^^^^^^^^^^^^^^^^^^^^^^^\n",
      "  File \"/workspace/.miniconda3/lib/python3.11/site-packages/torch/hub.py\", line 106, in _import_module\n",
      "    spec.loader.exec_module(module)\n",
      "  File \"<frozen importlib._bootstrap_external>\", line 936, in exec_module\n",
      "  File \"<frozen importlib._bootstrap_external>\", line 1073, in get_code\n",
      "  File \"<frozen importlib._bootstrap_external>\", line 1130, in get_data\n",
      "FileNotFoundError: [Errno 2] No such file or directory: '/workspace/keti_zura/torchhub/facebookresearch_dinov2_main/hubconf.py'\n",
      "Traceback (most recent call last):\n",
      "  File \"/workspace/keti_zura/Depth-Anything/run.py\", line 34, in <module>\n",
      "    depth_anything = DepthAnything.from_pretrained('LiheYoung/depth_anything_{}14'.format(args.encoder)).to(DEVICE).eval()\n",
      "                     ^^^^^^^^^^^^^^^^^^^^^^^^^^^^^^^^^^^^^^^^^^^^^^^^^^^^^^^^^^^^^^^^^^^^^^^^^^^^^^^^^^^\n",
      "  File \"/workspace/.miniconda3/lib/python3.11/site-packages/huggingface_hub/utils/_validators.py\", line 118, in _inner_fn\n",
      "    return fn(*args, **kwargs)\n",
      "           ^^^^^^^^^^^^^^^^^^^\n",
      "  File \"/workspace/.miniconda3/lib/python3.11/site-packages/huggingface_hub/hub_mixin.py\", line 277, in from_pretrained\n",
      "    instance = cls._from_pretrained(\n",
      "               ^^^^^^^^^^^^^^^^^^^^^\n",
      "  File \"/workspace/.miniconda3/lib/python3.11/site-packages/huggingface_hub/hub_mixin.py\", line 485, in _from_pretrained\n",
      "    model = cls(**model_kwargs)\n",
      "            ^^^^^^^^^^^^^^^^^^^\n",
      "  File \"/workspace/keti_zura/Depth-Anything/depth_anything/dpt.py\", line 171, in __init__\n",
      "    super().__init__(**config)\n",
      "  File \"/workspace/keti_zura/Depth-Anything/depth_anything/dpt.py\", line 147, in __init__\n",
      "    self.pretrained = torch.hub.load('torchhub/facebookresearch_dinov2_main', 'dinov2_{:}14'.format(encoder), source='local', pretrained=False)\n",
      "                      ^^^^^^^^^^^^^^^^^^^^^^^^^^^^^^^^^^^^^^^^^^^^^^^^^^^^^^^^^^^^^^^^^^^^^^^^^^^^^^^^^^^^^^^^^^^^^^^^^^^^^^^^^^^^^^^^^^^^^^^^^\n",
      "  File \"/workspace/.miniconda3/lib/python3.11/site-packages/torch/hub.py\", line 566, in load\n",
      "    model = _load_local(repo_or_dir, model, *args, **kwargs)\n",
      "            ^^^^^^^^^^^^^^^^^^^^^^^^^^^^^^^^^^^^^^^^^^^^^^^^\n",
      "  File \"/workspace/.miniconda3/lib/python3.11/site-packages/torch/hub.py\", line 592, in _load_local\n",
      "    hub_module = _import_module(MODULE_HUBCONF, hubconf_path)\n",
      "                 ^^^^^^^^^^^^^^^^^^^^^^^^^^^^^^^^^^^^^^^^^^^^\n",
      "  File \"/workspace/.miniconda3/lib/python3.11/site-packages/torch/hub.py\", line 106, in _import_module\n",
      "    spec.loader.exec_module(module)\n",
      "  File \"<frozen importlib._bootstrap_external>\", line 936, in exec_module\n",
      "  File \"<frozen importlib._bootstrap_external>\", line 1073, in get_code\n",
      "  File \"<frozen importlib._bootstrap_external>\", line 1130, in get_data\n",
      "FileNotFoundError: [Errno 2] No such file or directory: '/workspace/keti_zura/torchhub/facebookresearch_dinov2_main/hubconf.py'\n",
      "Traceback (most recent call last):\n",
      "  File \"/workspace/keti_zura/Depth-Anything/run.py\", line 34, in <module>\n",
      "    depth_anything = DepthAnything.from_pretrained('LiheYoung/depth_anything_{}14'.format(args.encoder)).to(DEVICE).eval()\n",
      "                     ^^^^^^^^^^^^^^^^^^^^^^^^^^^^^^^^^^^^^^^^^^^^^^^^^^^^^^^^^^^^^^^^^^^^^^^^^^^^^^^^^^^\n",
      "  File \"/workspace/.miniconda3/lib/python3.11/site-packages/huggingface_hub/utils/_validators.py\", line 118, in _inner_fn\n",
      "    return fn(*args, **kwargs)\n",
      "           ^^^^^^^^^^^^^^^^^^^\n",
      "  File \"/workspace/.miniconda3/lib/python3.11/site-packages/huggingface_hub/hub_mixin.py\", line 277, in from_pretrained\n",
      "    instance = cls._from_pretrained(\n",
      "               ^^^^^^^^^^^^^^^^^^^^^\n",
      "  File \"/workspace/.miniconda3/lib/python3.11/site-packages/huggingface_hub/hub_mixin.py\", line 485, in _from_pretrained\n",
      "    model = cls(**model_kwargs)\n",
      "            ^^^^^^^^^^^^^^^^^^^\n",
      "  File \"/workspace/keti_zura/Depth-Anything/depth_anything/dpt.py\", line 171, in __init__\n",
      "    super().__init__(**config)\n",
      "  File \"/workspace/keti_zura/Depth-Anything/depth_anything/dpt.py\", line 147, in __init__\n",
      "    self.pretrained = torch.hub.load('torchhub/facebookresearch_dinov2_main', 'dinov2_{:}14'.format(encoder), source='local', pretrained=False)\n",
      "                      ^^^^^^^^^^^^^^^^^^^^^^^^^^^^^^^^^^^^^^^^^^^^^^^^^^^^^^^^^^^^^^^^^^^^^^^^^^^^^^^^^^^^^^^^^^^^^^^^^^^^^^^^^^^^^^^^^^^^^^^^^\n",
      "  File \"/workspace/.miniconda3/lib/python3.11/site-packages/torch/hub.py\", line 566, in load\n",
      "    model = _load_local(repo_or_dir, model, *args, **kwargs)\n",
      "            ^^^^^^^^^^^^^^^^^^^^^^^^^^^^^^^^^^^^^^^^^^^^^^^^\n",
      "  File \"/workspace/.miniconda3/lib/python3.11/site-packages/torch/hub.py\", line 592, in _load_local\n",
      "    hub_module = _import_module(MODULE_HUBCONF, hubconf_path)\n",
      "                 ^^^^^^^^^^^^^^^^^^^^^^^^^^^^^^^^^^^^^^^^^^^^\n",
      "  File \"/workspace/.miniconda3/lib/python3.11/site-packages/torch/hub.py\", line 106, in _import_module\n",
      "    spec.loader.exec_module(module)\n",
      "  File \"<frozen importlib._bootstrap_external>\", line 936, in exec_module\n",
      "  File \"<frozen importlib._bootstrap_external>\", line 1073, in get_code\n",
      "  File \"<frozen importlib._bootstrap_external>\", line 1130, in get_data\n",
      "FileNotFoundError: [Errno 2] No such file or directory: '/workspace/keti_zura/torchhub/facebookresearch_dinov2_main/hubconf.py'\n",
      "Traceback (most recent call last):\n",
      "  File \"/workspace/keti_zura/Depth-Anything/run.py\", line 34, in <module>\n",
      "    depth_anything = DepthAnything.from_pretrained('LiheYoung/depth_anything_{}14'.format(args.encoder)).to(DEVICE).eval()\n",
      "                     ^^^^^^^^^^^^^^^^^^^^^^^^^^^^^^^^^^^^^^^^^^^^^^^^^^^^^^^^^^^^^^^^^^^^^^^^^^^^^^^^^^^\n",
      "  File \"/workspace/.miniconda3/lib/python3.11/site-packages/huggingface_hub/utils/_validators.py\", line 118, in _inner_fn\n",
      "    return fn(*args, **kwargs)\n",
      "           ^^^^^^^^^^^^^^^^^^^\n",
      "  File \"/workspace/.miniconda3/lib/python3.11/site-packages/huggingface_hub/hub_mixin.py\", line 277, in from_pretrained\n",
      "    instance = cls._from_pretrained(\n",
      "               ^^^^^^^^^^^^^^^^^^^^^\n",
      "  File \"/workspace/.miniconda3/lib/python3.11/site-packages/huggingface_hub/hub_mixin.py\", line 485, in _from_pretrained\n",
      "    model = cls(**model_kwargs)\n",
      "            ^^^^^^^^^^^^^^^^^^^\n",
      "  File \"/workspace/keti_zura/Depth-Anything/depth_anything/dpt.py\", line 171, in __init__\n",
      "    super().__init__(**config)\n",
      "  File \"/workspace/keti_zura/Depth-Anything/depth_anything/dpt.py\", line 147, in __init__\n",
      "    self.pretrained = torch.hub.load('torchhub/facebookresearch_dinov2_main', 'dinov2_{:}14'.format(encoder), source='local', pretrained=False)\n",
      "                      ^^^^^^^^^^^^^^^^^^^^^^^^^^^^^^^^^^^^^^^^^^^^^^^^^^^^^^^^^^^^^^^^^^^^^^^^^^^^^^^^^^^^^^^^^^^^^^^^^^^^^^^^^^^^^^^^^^^^^^^^^\n",
      "  File \"/workspace/.miniconda3/lib/python3.11/site-packages/torch/hub.py\", line 566, in load\n",
      "    model = _load_local(repo_or_dir, model, *args, **kwargs)\n",
      "            ^^^^^^^^^^^^^^^^^^^^^^^^^^^^^^^^^^^^^^^^^^^^^^^^\n",
      "  File \"/workspace/.miniconda3/lib/python3.11/site-packages/torch/hub.py\", line 592, in _load_local\n",
      "    hub_module = _import_module(MODULE_HUBCONF, hubconf_path)\n",
      "                 ^^^^^^^^^^^^^^^^^^^^^^^^^^^^^^^^^^^^^^^^^^^^\n",
      "  File \"/workspace/.miniconda3/lib/python3.11/site-packages/torch/hub.py\", line 106, in _import_module\n",
      "    spec.loader.exec_module(module)\n",
      "  File \"<frozen importlib._bootstrap_external>\", line 936, in exec_module\n",
      "  File \"<frozen importlib._bootstrap_external>\", line 1073, in get_code\n",
      "  File \"<frozen importlib._bootstrap_external>\", line 1130, in get_data\n",
      "FileNotFoundError: [Errno 2] No such file or directory: '/workspace/keti_zura/torchhub/facebookresearch_dinov2_main/hubconf.py'\n",
      "Traceback (most recent call last):\n",
      "  File \"/workspace/keti_zura/Depth-Anything/run.py\", line 34, in <module>\n",
      "    depth_anything = DepthAnything.from_pretrained('LiheYoung/depth_anything_{}14'.format(args.encoder)).to(DEVICE).eval()\n",
      "                     ^^^^^^^^^^^^^^^^^^^^^^^^^^^^^^^^^^^^^^^^^^^^^^^^^^^^^^^^^^^^^^^^^^^^^^^^^^^^^^^^^^^\n",
      "  File \"/workspace/.miniconda3/lib/python3.11/site-packages/huggingface_hub/utils/_validators.py\", line 118, in _inner_fn\n",
      "    return fn(*args, **kwargs)\n",
      "           ^^^^^^^^^^^^^^^^^^^\n",
      "  File \"/workspace/.miniconda3/lib/python3.11/site-packages/huggingface_hub/hub_mixin.py\", line 277, in from_pretrained\n",
      "    instance = cls._from_pretrained(\n",
      "               ^^^^^^^^^^^^^^^^^^^^^\n",
      "  File \"/workspace/.miniconda3/lib/python3.11/site-packages/huggingface_hub/hub_mixin.py\", line 485, in _from_pretrained\n",
      "    model = cls(**model_kwargs)\n",
      "            ^^^^^^^^^^^^^^^^^^^\n",
      "  File \"/workspace/keti_zura/Depth-Anything/depth_anything/dpt.py\", line 171, in __init__\n",
      "    super().__init__(**config)\n",
      "  File \"/workspace/keti_zura/Depth-Anything/depth_anything/dpt.py\", line 147, in __init__\n",
      "    self.pretrained = torch.hub.load('torchhub/facebookresearch_dinov2_main', 'dinov2_{:}14'.format(encoder), source='local', pretrained=False)\n",
      "                      ^^^^^^^^^^^^^^^^^^^^^^^^^^^^^^^^^^^^^^^^^^^^^^^^^^^^^^^^^^^^^^^^^^^^^^^^^^^^^^^^^^^^^^^^^^^^^^^^^^^^^^^^^^^^^^^^^^^^^^^^^\n",
      "  File \"/workspace/.miniconda3/lib/python3.11/site-packages/torch/hub.py\", line 566, in load\n",
      "    model = _load_local(repo_or_dir, model, *args, **kwargs)\n",
      "            ^^^^^^^^^^^^^^^^^^^^^^^^^^^^^^^^^^^^^^^^^^^^^^^^\n",
      "  File \"/workspace/.miniconda3/lib/python3.11/site-packages/torch/hub.py\", line 592, in _load_local\n",
      "    hub_module = _import_module(MODULE_HUBCONF, hubconf_path)\n",
      "                 ^^^^^^^^^^^^^^^^^^^^^^^^^^^^^^^^^^^^^^^^^^^^\n",
      "  File \"/workspace/.miniconda3/lib/python3.11/site-packages/torch/hub.py\", line 106, in _import_module\n",
      "    spec.loader.exec_module(module)\n",
      "  File \"<frozen importlib._bootstrap_external>\", line 936, in exec_module\n",
      "  File \"<frozen importlib._bootstrap_external>\", line 1073, in get_code\n",
      "  File \"<frozen importlib._bootstrap_external>\", line 1130, in get_data\n",
      "FileNotFoundError: [Errno 2] No such file or directory: '/workspace/keti_zura/torchhub/facebookresearch_dinov2_main/hubconf.py'\n"
     ]
    }
   ],
   "source": [
    "for index in range(len(scene_map)):\n",
    "    !python Depth-Anything/run.py --encoder vitl --img-path f'scene/Scene {index+1}/skybox.jpg' --outdir f'scene/Scene {index+1}/skybox_depth.jpg' --pred-only --grayscale"
   ]
  },
  {
   "cell_type": "code",
   "execution_count": 30,
   "id": "778b5ed2-edb5-4ea1-a888-9eba7fc99e45",
   "metadata": {},
   "outputs": [
    {
     "name": "stderr",
     "output_type": "stream",
     "text": [
      "/tmp/ipykernel_150420/235004853.py:10: DeprecationWarning: Due to a bug, this method doesn't actually stream the response content, `.with_streaming_response.method()` should be used instead\n",
      "  response.stream_to_file(scene_speech_file_path)\n"
     ]
    }
   ],
   "source": [
    "from pathlib import Path\n",
    "\n",
    "for index in range(len(scene_map)):\n",
    "    scene_speech_file_path = f'scenes/Scene {index + 1}/speech.wav'\n",
    "    response = client.audio.speech.create(\n",
    "      model=\"tts-1\",\n",
    "      voice=\"onyx\",\n",
    "      input=scene_map[f\"Scene {index + 1}\"],\n",
    "    )\n",
    "    response.stream_to_file(scene_speech_file_path)"
   ]
  },
  {
   "cell_type": "markdown",
   "id": "5947d58c-5a6d-45d2-95d8-5b478f23f6c9",
   "metadata": {},
   "source": [
    "# Scenes to background audio prompts"
   ]
  },
  {
   "cell_type": "code",
   "execution_count": 21,
   "id": "30451b6c-bb96-4552-924f-55f24cbe4e8b",
   "metadata": {},
   "outputs": [],
   "source": [
    "sound_descriptions = []\n",
    "for scene in scene_map:\n",
    "    prompt = f\"Based on the following scene: {scene_map[scene]} Write a 1 sentence song description, specifying instruments and style.\"\n",
    "\n",
    "    response = client.chat.completions.create(\n",
    "        model=\"gpt-4\",\n",
    "        messages=[\n",
    "            {\"role\": \"system\", \"content\": \"You are a helpful assistant designed to generate a 1 sentence description for a background music\"},\n",
    "            {\"role\": \"user\", \"content\": prompt},\n",
    "        ]\n",
    "    )\n",
    "    \n",
    "    sound_descriptions.append(response.choices[0].message.content)"
   ]
  },
  {
   "cell_type": "markdown",
   "id": "a1769e55-1905-4d60-8caa-5a7753cdfa1e",
   "metadata": {},
   "source": [
    "# Scenes to background audio"
   ]
  },
  {
   "cell_type": "code",
   "execution_count": 23,
   "id": "f5326417-b21c-4aec-9679-0103e8140eee",
   "metadata": {},
   "outputs": [
    {
     "name": "stdout",
     "output_type": "stream",
     "text": [
      "Requirement already satisfied: pydub in /workspace/.miniconda3/lib/python3.11/site-packages (0.25.1)\n",
      "\n",
      "\u001b[1m[\u001b[0m\u001b[34;49mnotice\u001b[0m\u001b[1;39;49m]\u001b[0m\u001b[39;49m A new release of pip is available: \u001b[0m\u001b[31;49m23.3\u001b[0m\u001b[39;49m -> \u001b[0m\u001b[32;49m24.0\u001b[0m\n",
      "\u001b[1m[\u001b[0m\u001b[34;49mnotice\u001b[0m\u001b[1;39;49m]\u001b[0m\u001b[39;49m To update, run: \u001b[0m\u001b[32;49mpip install --upgrade pip\u001b[0m\n"
     ]
    }
   ],
   "source": [
    "!pip install pydub"
   ]
  },
  {
   "cell_type": "code",
   "execution_count": 24,
   "id": "057c733b-e2a8-498d-a5d8-fa11176964c8",
   "metadata": {},
   "outputs": [],
   "source": [
    "from pydub import AudioSegment\n",
    "\n",
    "def get_mp3_duration(file_path):\n",
    "    audio = AudioSegment.from_file(file_path, format=\"mp3\")\n",
    "    duration_seconds = len(audio) / 1000.0\n",
    "    return duration_seconds"
   ]
  },
  {
   "cell_type": "code",
   "execution_count": 40,
   "id": "28030483-f647-4510-b9a7-4c986eabc0ca",
   "metadata": {},
   "outputs": [
    {
     "name": "stdout",
     "output_type": "stream",
     "text": [
      "Collecting torch==2.1.0\n",
      "  Using cached torch-2.1.0-cp311-cp311-manylinux1_x86_64.whl.metadata (25 kB)\n",
      "Requirement already satisfied: filelock in /workspace/.miniconda3/lib/python3.11/site-packages (from torch==2.1.0) (3.13.1)\n",
      "Requirement already satisfied: typing-extensions in /workspace/.miniconda3/lib/python3.11/site-packages (from torch==2.1.0) (4.10.0)\n",
      "Requirement already satisfied: sympy in /workspace/.miniconda3/lib/python3.11/site-packages (from torch==2.1.0) (1.12)\n",
      "Requirement already satisfied: networkx in /workspace/.miniconda3/lib/python3.11/site-packages (from torch==2.1.0) (3.2.1)\n",
      "Requirement already satisfied: jinja2 in /workspace/.miniconda3/lib/python3.11/site-packages (from torch==2.1.0) (3.1.3)\n",
      "Requirement already satisfied: fsspec in /workspace/.miniconda3/lib/python3.11/site-packages (from torch==2.1.0) (2024.2.0)\n",
      "Requirement already satisfied: nvidia-cuda-nvrtc-cu12==12.1.105 in /workspace/.miniconda3/lib/python3.11/site-packages (from torch==2.1.0) (12.1.105)\n",
      "Requirement already satisfied: nvidia-cuda-runtime-cu12==12.1.105 in /workspace/.miniconda3/lib/python3.11/site-packages (from torch==2.1.0) (12.1.105)\n",
      "Requirement already satisfied: nvidia-cuda-cupti-cu12==12.1.105 in /workspace/.miniconda3/lib/python3.11/site-packages (from torch==2.1.0) (12.1.105)\n",
      "Requirement already satisfied: nvidia-cudnn-cu12==8.9.2.26 in /workspace/.miniconda3/lib/python3.11/site-packages (from torch==2.1.0) (8.9.2.26)\n",
      "Requirement already satisfied: nvidia-cublas-cu12==12.1.3.1 in /workspace/.miniconda3/lib/python3.11/site-packages (from torch==2.1.0) (12.1.3.1)\n",
      "Requirement already satisfied: nvidia-cufft-cu12==11.0.2.54 in /workspace/.miniconda3/lib/python3.11/site-packages (from torch==2.1.0) (11.0.2.54)\n",
      "Requirement already satisfied: nvidia-curand-cu12==10.3.2.106 in /workspace/.miniconda3/lib/python3.11/site-packages (from torch==2.1.0) (10.3.2.106)\n",
      "Requirement already satisfied: nvidia-cusolver-cu12==11.4.5.107 in /workspace/.miniconda3/lib/python3.11/site-packages (from torch==2.1.0) (11.4.5.107)\n",
      "Requirement already satisfied: nvidia-cusparse-cu12==12.1.0.106 in /workspace/.miniconda3/lib/python3.11/site-packages (from torch==2.1.0) (12.1.0.106)\n",
      "Collecting nvidia-nccl-cu12==2.18.1 (from torch==2.1.0)\n",
      "  Using cached nvidia_nccl_cu12-2.18.1-py3-none-manylinux1_x86_64.whl.metadata (1.8 kB)\n",
      "Requirement already satisfied: nvidia-nvtx-cu12==12.1.105 in /workspace/.miniconda3/lib/python3.11/site-packages (from torch==2.1.0) (12.1.105)\n",
      "Collecting triton==2.1.0 (from torch==2.1.0)\n",
      "  Using cached triton-2.1.0-0-cp311-cp311-manylinux2014_x86_64.manylinux_2_17_x86_64.whl.metadata (1.3 kB)\n",
      "Requirement already satisfied: nvidia-nvjitlink-cu12 in /workspace/.miniconda3/lib/python3.11/site-packages (from nvidia-cusolver-cu12==11.4.5.107->torch==2.1.0) (12.3.101)\n",
      "Requirement already satisfied: MarkupSafe>=2.0 in /workspace/.miniconda3/lib/python3.11/site-packages (from jinja2->torch==2.1.0) (2.1.5)\n",
      "Requirement already satisfied: mpmath>=0.19 in /workspace/.miniconda3/lib/python3.11/site-packages (from sympy->torch==2.1.0) (1.3.0)\n",
      "Using cached torch-2.1.0-cp311-cp311-manylinux1_x86_64.whl (670.2 MB)\n",
      "Using cached nvidia_nccl_cu12-2.18.1-py3-none-manylinux1_x86_64.whl (209.8 MB)\n",
      "Using cached triton-2.1.0-0-cp311-cp311-manylinux2014_x86_64.manylinux_2_17_x86_64.whl (89.2 MB)\n",
      "Installing collected packages: triton, nvidia-nccl-cu12, torch\n",
      "  Attempting uninstall: triton\n",
      "    Found existing installation: triton 2.2.0\n",
      "    Uninstalling triton-2.2.0:\n",
      "      Successfully uninstalled triton-2.2.0\n",
      "  Attempting uninstall: nvidia-nccl-cu12\n",
      "    Found existing installation: nvidia-nccl-cu12 2.19.3\n",
      "    Uninstalling nvidia-nccl-cu12-2.19.3:\n",
      "      Successfully uninstalled nvidia-nccl-cu12-2.19.3\n",
      "  Attempting uninstall: torch\n",
      "    Found existing installation: torch 2.2.1\n",
      "    Uninstalling torch-2.2.1:\n",
      "      Successfully uninstalled torch-2.2.1\n",
      "\u001b[31mERROR: pip's dependency resolver does not currently take into account all the packages that are installed. This behaviour is the source of the following dependency conflicts.\n",
      "torchvision 0.17.1 requires torch==2.2.1, but you have torch 2.1.0 which is incompatible.\u001b[0m\u001b[31m\n",
      "\u001b[0mSuccessfully installed nvidia-nccl-cu12-2.18.1 torch-2.1.0 triton-2.1.0\n",
      "\n",
      "\u001b[1m[\u001b[0m\u001b[34;49mnotice\u001b[0m\u001b[1;39;49m]\u001b[0m\u001b[39;49m A new release of pip is available: \u001b[0m\u001b[31;49m23.3\u001b[0m\u001b[39;49m -> \u001b[0m\u001b[32;49m24.0\u001b[0m\n",
      "\u001b[1m[\u001b[0m\u001b[34;49mnotice\u001b[0m\u001b[1;39;49m]\u001b[0m\u001b[39;49m To update, run: \u001b[0m\u001b[32;49mpip install --upgrade pip\u001b[0m\n",
      "Note: you may need to restart the kernel to use updated packages.\n"
     ]
    }
   ],
   "source": [
    "!pip install torch==2.1.0"
   ]
  },
  {
   "cell_type": "code",
   "execution_count": 41,
   "id": "43cad136-a7b9-421c-95ad-519f5a0dc591",
   "metadata": {},
   "outputs": [
    {
     "name": "stdout",
     "output_type": "stream",
     "text": [
      "Collecting git+https://github.com/huggingface/transformers.git (from -r requirements.txt (line 1))\n",
      "  Cloning https://github.com/huggingface/transformers.git to /tmp/pip-req-build-8yn0htgl\n",
      "  Running command git clone --filter=blob:none --quiet https://github.com/huggingface/transformers.git /tmp/pip-req-build-8yn0htgl\n",
      "  Resolved https://github.com/huggingface/transformers.git to commit e7b983706586c0b809437851f3ba5863b4eda9c0\n",
      "  Installing build dependencies ... \u001b[?25ldone\n",
      "\u001b[?25h  Getting requirements to build wheel ... \u001b[?25ldone\n",
      "\u001b[?25h  Preparing metadata (pyproject.toml) ... \u001b[?25ldone\n",
      "\u001b[?25hRequirement already satisfied: scipy in /workspace/.miniconda3/lib/python3.11/site-packages (from -r requirements.txt (line 2)) (1.12.0)\n",
      "Requirement already satisfied: filelock in /workspace/.miniconda3/lib/python3.11/site-packages (from transformers==4.39.0.dev0->-r requirements.txt (line 1)) (3.13.1)\n",
      "Requirement already satisfied: huggingface-hub<1.0,>=0.19.3 in /workspace/.miniconda3/lib/python3.11/site-packages (from transformers==4.39.0.dev0->-r requirements.txt (line 1)) (0.21.3)\n",
      "Requirement already satisfied: numpy>=1.17 in /workspace/.miniconda3/lib/python3.11/site-packages (from transformers==4.39.0.dev0->-r requirements.txt (line 1)) (1.26.4)\n",
      "Requirement already satisfied: packaging>=20.0 in /workspace/.miniconda3/lib/python3.11/site-packages (from transformers==4.39.0.dev0->-r requirements.txt (line 1)) (23.0)\n",
      "Requirement already satisfied: pyyaml>=5.1 in /workspace/.miniconda3/lib/python3.11/site-packages (from transformers==4.39.0.dev0->-r requirements.txt (line 1)) (6.0.1)\n",
      "Requirement already satisfied: regex!=2019.12.17 in /workspace/.miniconda3/lib/python3.11/site-packages (from transformers==4.39.0.dev0->-r requirements.txt (line 1)) (2023.12.25)\n",
      "Requirement already satisfied: requests in /workspace/.miniconda3/lib/python3.11/site-packages (from transformers==4.39.0.dev0->-r requirements.txt (line 1)) (2.31.0)\n",
      "Requirement already satisfied: tokenizers<0.19,>=0.14 in /workspace/.miniconda3/lib/python3.11/site-packages (from transformers==4.39.0.dev0->-r requirements.txt (line 1)) (0.15.2)\n",
      "Requirement already satisfied: safetensors>=0.4.1 in /workspace/.miniconda3/lib/python3.11/site-packages (from transformers==4.39.0.dev0->-r requirements.txt (line 1)) (0.4.2)\n",
      "Requirement already satisfied: tqdm>=4.27 in /workspace/.miniconda3/lib/python3.11/site-packages (from transformers==4.39.0.dev0->-r requirements.txt (line 1)) (4.65.0)\n",
      "Requirement already satisfied: fsspec>=2023.5.0 in /workspace/.miniconda3/lib/python3.11/site-packages (from huggingface-hub<1.0,>=0.19.3->transformers==4.39.0.dev0->-r requirements.txt (line 1)) (2024.2.0)\n",
      "Requirement already satisfied: typing-extensions>=3.7.4.3 in /workspace/.miniconda3/lib/python3.11/site-packages (from huggingface-hub<1.0,>=0.19.3->transformers==4.39.0.dev0->-r requirements.txt (line 1)) (4.10.0)\n",
      "Requirement already satisfied: charset-normalizer<4,>=2 in /workspace/.miniconda3/lib/python3.11/site-packages (from requests->transformers==4.39.0.dev0->-r requirements.txt (line 1)) (2.0.4)\n",
      "Requirement already satisfied: idna<4,>=2.5 in /workspace/.miniconda3/lib/python3.11/site-packages (from requests->transformers==4.39.0.dev0->-r requirements.txt (line 1)) (3.4)\n",
      "Requirement already satisfied: urllib3<3,>=1.21.1 in /workspace/.miniconda3/lib/python3.11/site-packages (from requests->transformers==4.39.0.dev0->-r requirements.txt (line 1)) (1.26.16)\n",
      "Requirement already satisfied: certifi>=2017.4.17 in /workspace/.miniconda3/lib/python3.11/site-packages (from requests->transformers==4.39.0.dev0->-r requirements.txt (line 1)) (2023.5.7)\n",
      "\n",
      "\u001b[1m[\u001b[0m\u001b[34;49mnotice\u001b[0m\u001b[1;39;49m]\u001b[0m\u001b[39;49m A new release of pip is available: \u001b[0m\u001b[31;49m23.3\u001b[0m\u001b[39;49m -> \u001b[0m\u001b[32;49m24.0\u001b[0m\n",
      "\u001b[1m[\u001b[0m\u001b[34;49mnotice\u001b[0m\u001b[1;39;49m]\u001b[0m\u001b[39;49m To update, run: \u001b[0m\u001b[32;49mpip install --upgrade pip\u001b[0m\n"
     ]
    }
   ],
   "source": [
    "!pip install -r requirements.txt"
   ]
  },
  {
   "cell_type": "code",
   "execution_count": 42,
   "id": "8c328bce-ceea-4832-ab2b-8c9f81e2ae96",
   "metadata": {},
   "outputs": [],
   "source": [
    "from transformers import AutoProcessor, MusicgenForConditionalGeneration\n",
    "import scipy"
   ]
  },
  {
   "cell_type": "code",
   "execution_count": 43,
   "id": "e73a4453-84e3-4cda-b209-ddc89aafcaa0",
   "metadata": {},
   "outputs": [
    {
     "data": {
      "application/vnd.jupyter.widget-view+json": {
       "model_id": "60a93ea528d54916aa47021eb41201d9",
       "version_major": 2,
       "version_minor": 0
      },
      "text/plain": [
       "preprocessor_config.json:   0%|          | 0.00/275 [00:00<?, ?B/s]"
      ]
     },
     "metadata": {},
     "output_type": "display_data"
    },
    {
     "data": {
      "application/vnd.jupyter.widget-view+json": {
       "model_id": "7efcc8acb3e54da6a6558900aa19c9bb",
       "version_major": 2,
       "version_minor": 0
      },
      "text/plain": [
       "tokenizer_config.json:   0%|          | 0.00/2.37k [00:00<?, ?B/s]"
      ]
     },
     "metadata": {},
     "output_type": "display_data"
    },
    {
     "data": {
      "application/vnd.jupyter.widget-view+json": {
       "model_id": "de80fc2284f94e278a84bbf233d6129e",
       "version_major": 2,
       "version_minor": 0
      },
      "text/plain": [
       "spiece.model:   0%|          | 0.00/792k [00:00<?, ?B/s]"
      ]
     },
     "metadata": {},
     "output_type": "display_data"
    },
    {
     "data": {
      "application/vnd.jupyter.widget-view+json": {
       "model_id": "13687f0a88b84d9f964ae82e6ae43b71",
       "version_major": 2,
       "version_minor": 0
      },
      "text/plain": [
       "tokenizer.json:   0%|          | 0.00/2.42M [00:00<?, ?B/s]"
      ]
     },
     "metadata": {},
     "output_type": "display_data"
    },
    {
     "data": {
      "application/vnd.jupyter.widget-view+json": {
       "model_id": "9004ef5efadc441bb80cca8f0e56d86f",
       "version_major": 2,
       "version_minor": 0
      },
      "text/plain": [
       "special_tokens_map.json:   0%|          | 0.00/2.20k [00:00<?, ?B/s]"
      ]
     },
     "metadata": {},
     "output_type": "display_data"
    },
    {
     "data": {
      "application/vnd.jupyter.widget-view+json": {
       "model_id": "4709404512b948d79286a11eab121346",
       "version_major": 2,
       "version_minor": 0
      },
      "text/plain": [
       "config.json:   0%|          | 0.00/7.87k [00:00<?, ?B/s]"
      ]
     },
     "metadata": {},
     "output_type": "display_data"
    },
    {
     "data": {
      "application/vnd.jupyter.widget-view+json": {
       "model_id": "efe3acf535744e57a5b1c3e462907a43",
       "version_major": 2,
       "version_minor": 0
      },
      "text/plain": [
       "model.safetensors:   0%|          | 0.00/2.36G [00:00<?, ?B/s]"
      ]
     },
     "metadata": {},
     "output_type": "display_data"
    },
    {
     "name": "stderr",
     "output_type": "stream",
     "text": [
      "/workspace/.miniconda3/lib/python3.11/site-packages/torch/nn/utils/weight_norm.py:30: UserWarning: torch.nn.utils.weight_norm is deprecated in favor of torch.nn.utils.parametrizations.weight_norm.\n",
      "  warnings.warn(\"torch.nn.utils.weight_norm is deprecated in favor of torch.nn.utils.parametrizations.weight_norm.\")\n"
     ]
    },
    {
     "data": {
      "application/vnd.jupyter.widget-view+json": {
       "model_id": "07ba120dc2ed4da3b581bf7292c2243d",
       "version_major": 2,
       "version_minor": 0
      },
      "text/plain": [
       "generation_config.json:   0%|          | 0.00/224 [00:00<?, ?B/s]"
      ]
     },
     "metadata": {},
     "output_type": "display_data"
    }
   ],
   "source": [
    "# Load the MusicGen model\n",
    "processor = AutoProcessor.from_pretrained(\n",
    "    \"facebook/musicgen-small\")\n",
    "model = MusicgenForConditionalGeneration.from_pretrained(\n",
    "    \"facebook/musicgen-small\")"
   ]
  },
  {
   "cell_type": "code",
   "execution_count": 45,
   "id": "2b1e6c0f-5cff-4354-b540-e7f20f708a60",
   "metadata": {},
   "outputs": [],
   "source": [
    "import math\n",
    "for scene in scene_map.keys():\n",
    "    inputs = processor(\n",
    "        text=scene_map[scene],\n",
    "        padding=True,\n",
    "        return_tensors=\"pt\",\n",
    "    )\n",
    "    audio_length = get_mp3_duration(f'scenes/{scene}/speech.wav')\n",
    "    sampling_rate = model.config.audio_encoder.sampling_rate\n",
    "    # Generate the audio with long duration\n",
    "    audio_values = model.generate(**inputs, max_new_tokens=math.ceil(audio_length*256/5))\n",
    "    # Save the wav file into your system\n",
    "    scipy.io.wavfile.write(f\"scenes/{scene}/background_music.wav\", rate=sampling_rate, data=audio_values[0, 0].numpy())"
   ]
  },
  {
   "cell_type": "code",
   "execution_count": null,
   "id": "8c6813d7-4787-475f-a9dd-f7b45fe61a21",
   "metadata": {},
   "outputs": [],
   "source": []
  }
 ],
 "metadata": {
  "kernelspec": {
   "display_name": "Conda",
   "language": "python",
   "name": "python3"
  },
  "language_info": {
   "codemirror_mode": {
    "name": "ipython",
    "version": 3
   },
   "file_extension": ".py",
   "mimetype": "text/x-python",
   "name": "python",
   "nbconvert_exporter": "python",
   "pygments_lexer": "ipython3",
   "version": "3.11.4"
  }
 },
 "nbformat": 4,
 "nbformat_minor": 5
}
